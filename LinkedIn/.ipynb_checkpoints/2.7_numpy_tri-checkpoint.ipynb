{
 "cells": [
  {
   "cell_type": "code",
   "execution_count": 20,
   "metadata": {},
   "outputs": [
    {
     "name": "stdout",
     "output_type": "stream",
     "text": [
      "setup complete\n"
     ]
    }
   ],
   "source": [
    "import numpy as np\n",
    "import matplotlib.pyplot as plt\n",
    "print(\"setup complete\")"
   ]
  },
  {
   "cell_type": "code",
   "execution_count": 2,
   "metadata": {},
   "outputs": [],
   "source": [
    "a = np.array([7, 1, 5, 2, 3])"
   ]
  },
  {
   "cell_type": "code",
   "execution_count": 6,
   "metadata": {},
   "outputs": [
    {
     "name": "stdout",
     "output_type": "stream",
     "text": [
      "2.81 µs ± 79 ns per loop (mean ± std. dev. of 7 runs, 100000 loops each)\n"
     ]
    }
   ],
   "source": [
    "%timeit np.sort(a)"
   ]
  },
  {
   "cell_type": "code",
   "execution_count": 4,
   "metadata": {},
   "outputs": [],
   "source": [
    "a = np.array([7, 1, 5, 2, 3])"
   ]
  },
  {
   "cell_type": "code",
   "execution_count": 7,
   "metadata": {},
   "outputs": [
    {
     "name": "stdout",
     "output_type": "stream",
     "text": [
      "479 ns ± 8.54 ns per loop (mean ± std. dev. of 7 runs, 1000000 loops each)\n"
     ]
    }
   ],
   "source": [
    "%timeit a.sort()"
   ]
  },
  {
   "cell_type": "code",
   "execution_count": 8,
   "metadata": {},
   "outputs": [],
   "source": [
    "a = np.array([7, 1, 5, 2, 3])"
   ]
  },
  {
   "cell_type": "code",
   "execution_count": 9,
   "metadata": {},
   "outputs": [
    {
     "data": {
      "text/plain": [
       "array([1, 3, 4, 2, 0], dtype=int64)"
      ]
     },
     "execution_count": 9,
     "metadata": {},
     "output_type": "execute_result"
    }
   ],
   "source": [
    "ind = np.argsort(a)\n",
    "ind"
   ]
  },
  {
   "cell_type": "code",
   "execution_count": 10,
   "metadata": {},
   "outputs": [
    {
     "data": {
      "text/plain": [
       "array([1, 2, 3, 5, 7])"
      ]
     },
     "execution_count": 10,
     "metadata": {},
     "output_type": "execute_result"
    }
   ],
   "source": [
    "a[ind]"
   ]
  },
  {
   "cell_type": "code",
   "execution_count": 11,
   "metadata": {},
   "outputs": [],
   "source": [
    "rand = np.random.RandomState()\n",
    "Mat = rand.randint(1, 9, (3,4))"
   ]
  },
  {
   "cell_type": "code",
   "execution_count": 12,
   "metadata": {},
   "outputs": [
    {
     "data": {
      "text/plain": [
       "array([[7, 5, 1, 6],\n",
       "       [4, 2, 6, 3],\n",
       "       [7, 5, 5, 5]])"
      ]
     },
     "execution_count": 12,
     "metadata": {},
     "output_type": "execute_result"
    }
   ],
   "source": [
    "Mat"
   ]
  },
  {
   "cell_type": "code",
   "execution_count": 13,
   "metadata": {},
   "outputs": [
    {
     "data": {
      "text/plain": [
       "array([[4, 2, 1, 3],\n",
       "       [7, 5, 5, 5],\n",
       "       [7, 5, 6, 6]])"
      ]
     },
     "execution_count": 13,
     "metadata": {},
     "output_type": "execute_result"
    }
   ],
   "source": [
    "np.sort(Mat, axis=0)"
   ]
  },
  {
   "cell_type": "code",
   "execution_count": 14,
   "metadata": {},
   "outputs": [
    {
     "data": {
      "text/plain": [
       "array([[1, 5, 6, 7],\n",
       "       [2, 3, 4, 6],\n",
       "       [5, 5, 5, 7]])"
      ]
     },
     "execution_count": 14,
     "metadata": {},
     "output_type": "execute_result"
    }
   ],
   "source": [
    "np.sort(Mat, axis=1)"
   ]
  },
  {
   "cell_type": "code",
   "execution_count": 15,
   "metadata": {},
   "outputs": [
    {
     "data": {
      "text/plain": [
       "array([[1, 2, 3, 4],\n",
       "       [5, 5, 5, 7],\n",
       "       [5, 6, 6, 7]])"
      ]
     },
     "execution_count": 15,
     "metadata": {},
     "output_type": "execute_result"
    }
   ],
   "source": [
    "np.sort(np.sort(Mat, axis=0), axis=1)"
   ]
  },
  {
   "cell_type": "code",
   "execution_count": 16,
   "metadata": {},
   "outputs": [],
   "source": [
    "a = np.array([7, 1, 5, 2, 3])"
   ]
  },
  {
   "cell_type": "code",
   "execution_count": 17,
   "metadata": {},
   "outputs": [
    {
     "data": {
      "text/plain": [
       "array([2, 3, 1, 5, 7])"
      ]
     },
     "execution_count": 17,
     "metadata": {},
     "output_type": "execute_result"
    }
   ],
   "source": [
    "np.partition(a, 3)"
   ]
  },
  {
   "cell_type": "code",
   "execution_count": 19,
   "metadata": {},
   "outputs": [
    {
     "data": {
      "text/plain": [
       "array([[16, 19],\n",
       "       [ 4,  7],\n",
       "       [ 7, 14],\n",
       "       [10, 19],\n",
       "       [ 4,  5],\n",
       "       [18,  1],\n",
       "       [10,  8],\n",
       "       [17, 18],\n",
       "       [ 6,  9],\n",
       "       [19,  8],\n",
       "       [ 7, 17],\n",
       "       [ 1, 14],\n",
       "       [ 6, 13],\n",
       "       [13, 10],\n",
       "       [15,  8]])"
      ]
     },
     "execution_count": 19,
     "metadata": {},
     "output_type": "execute_result"
    }
   ],
   "source": [
    "# K nn\n",
    "Mat1 = rand.randint(1,20,30).reshape(15,2)\n",
    "Mat1"
   ]
  },
  {
   "cell_type": "code",
   "execution_count": 21,
   "metadata": {},
   "outputs": [
    {
     "data": {
      "text/plain": [
       "<matplotlib.collections.PathCollection at 0x142d7135a90>"
      ]
     },
     "execution_count": 21,
     "metadata": {},
     "output_type": "execute_result"
    },
    {
     "data": {
      "image/png": "[encoded data removed]",
      "text/plain": [
       "<Figure size 432x288 with 1 Axes>"
      ]
     },
     "metadata": {
      "needs_background": "light"
     },
     "output_type": "display_data"
    }
   ],
   "source": [
    "plt.scatter(Mat1[:,0],Mat1[:,1])"
   ]
  },
  {
   "cell_type": "code",
   "execution_count": 22,
   "metadata": {},
   "outputs": [],
   "source": [
    "# distance entre chaque paire de points\n",
    "Mat_dist = np.sum((Mat1[:,np.newaxis,:] - Mat1[np.newaxis,:,:])**2, axis=-1)"
   ]
  },
  {
   "cell_type": "code",
   "execution_count": 23,
   "metadata": {},
   "outputs": [],
   "source": [
    "# Trier les lignes\n",
    "nearest = np.argsort(Mat_dist, axis=1)"
   ]
  },
  {
   "cell_type": "code",
   "execution_count": 24,
   "metadata": {},
   "outputs": [
    {
     "data": {
      "text/plain": [
       "array([[ 0,  7,  3, 10, 13,  2, 14,  9, 12,  6,  8, 11,  1,  5,  4],\n",
       "       [ 1,  4,  8,  6, 12,  2, 11, 13, 10, 14,  3,  9,  5,  0,  7],\n",
       "       [ 2, 12, 10,  8,  3, 11,  6, 13,  1,  4, 14,  0,  7,  9,  5],\n",
       "       [ 3, 10,  2,  0,  7, 12, 13, 11,  8,  6, 14,  1,  9,  4,  5],\n",
       "       [ 4,  1,  8,  6, 12,  2, 11, 13, 14, 10,  5,  3,  9,  7,  0],\n",
       "       [ 5,  9, 14, 13,  6,  8,  4,  1, 12,  2,  7,  0, 10,  3, 11],\n",
       "       [ 6, 13,  8, 14,  1, 12,  2,  4,  9, 10,  5, 11,  3,  7,  0],\n",
       "       [ 7,  0,  3, 13, 10,  9, 14,  2, 12,  6,  8, 11,  1,  5,  4],\n",
       "       [ 8,  1, 12,  6,  4,  2, 11, 13, 10, 14,  3,  9,  0,  7,  5],\n",
       "       [ 9, 14, 13,  5,  6,  7,  0,  8,  2, 12,  3, 10,  1,  4, 11],\n",
       "       [10,  2,  3, 12, 11,  8,  0, 13,  6,  7,  1, 14,  4,  9,  5],\n",
       "       [11, 12,  2, 10,  8,  1,  4,  3,  6, 13, 14,  0,  7,  9,  5],\n",
       "       [12,  2,  8, 10, 11,  1,  6,  3, 13,  4, 14,  0,  7,  9,  5],\n",
       "       [13, 14,  6,  9,  8,  2, 12,  7, 10,  0,  1,  3,  4,  5, 11],\n",
       "       [14, 13,  9,  6,  5,  8,  2,  7, 12,  0,  1,  4, 10,  3, 11]],\n",
       "      dtype=int64)"
      ]
     },
     "execution_count": 24,
     "metadata": {},
     "output_type": "execute_result"
    }
   ],
   "source": [
    "nearest"
   ]
  },
  {
   "cell_type": "code",
   "execution_count": 25,
   "metadata": {},
   "outputs": [
    {
     "data": {
      "text/plain": [
       "array([[ 0,  7,  3, 10, 13,  2, 14,  1,  6,  9,  5, 11, 12,  4,  8],\n",
       "       [ 4,  6,  8,  1, 12,  5, 14,  3,  2,  9, 10, 11, 13,  0,  7],\n",
       "       [ 2, 12, 10,  8,  3, 11,  6,  1, 14,  4, 13,  0,  9,  5,  7],\n",
       "       [10,  0,  2,  3,  7,  5,  6,  1,  8,  9,  4, 11, 12, 13, 14],\n",
       "       [ 4,  6,  8,  1, 12,  5, 14,  3,  2,  9, 10, 11, 13,  7,  0],\n",
       "       [ 9,  5, 14, 13,  6,  8, 12,  1,  4,  7, 10, 11,  3,  2,  0],\n",
       "       [ 6, 13,  8, 14,  1, 12,  5,  3,  4,  9, 10, 11,  2,  7,  0],\n",
       "       [ 7,  0,  3, 13, 10, 14,  9,  2,  1,  6,  5, 11, 12,  4,  8],\n",
       "       [ 8,  1, 12,  6,  4,  2, 13, 14,  3,  9, 10, 11,  0,  5,  7],\n",
       "       [ 9, 13, 14,  5,  6,  7,  4,  1,  8,  3, 10, 11, 12,  2,  0],\n",
       "       [ 3,  2, 10, 12, 11,  8,  6,  0, 13,  7,  9,  1,  5,  4, 14],\n",
       "       [12, 11,  2, 10,  8,  1,  4, 14,  6,  3, 13,  0,  9,  5,  7],\n",
       "       [ 8, 10,  2, 12, 11, 14,  6,  1,  4,  3, 13,  0,  9,  5,  7],\n",
       "       [14, 13,  6,  9,  8,  2, 12,  7,  1,  5, 10, 11,  4,  3,  0],\n",
       "       [14, 13,  9,  6,  5,  8,  2,  7,  1,  4, 10, 11, 12,  3,  0]],\n",
       "      dtype=int64)"
      ]
     },
     "execution_count": 25,
     "metadata": {},
     "output_type": "execute_result"
    }
   ],
   "source": [
    "K = 3\n",
    "nearest_partition = np.argpartition(Mat_dist, K + 1, axis=1)\n",
    "nearest_partition"
   ]
  },
  {
   "cell_type": "code",
   "execution_count": null,
   "metadata": {},
   "outputs": [],
   "source": []
  }
 ],
 "metadata": {
  "kernelspec": {
   "display_name": "Python 3",
   "language": "python",
   "name": "python3"
  },
  "language_info": {
   "codemirror_mode": {
    "name": "ipython",
    "version": 3
   },
   "file_extension": ".py",
   "mimetype": "text/x-python",
   "name": "python",
   "nbconvert_exporter": "python",
   "pygments_lexer": "ipython3",
   "version": "3.8.5"
  }
 },
 "nbformat": 4,
 "nbformat_minor": 4
}
